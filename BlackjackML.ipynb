{
 "cells": [
  {
   "cell_type": "markdown",
   "metadata": {},
   "source": [
    "# Machine Learning Applications to Simulated Blackjack Data"
   ]
  },
  {
   "cell_type": "markdown",
   "metadata": {},
   "source": [
    "Scott Atkinson"
   ]
  },
  {
   "cell_type": "markdown",
   "metadata": {},
   "source": [
    "## [0. Contents](#0.)<a id='0.'></a>\n",
    "\n",
    "## [1. Import libraries](#1.)\n",
    "\n",
    "## [2. Obtain summary DataFrame](#2.)\n",
    "\n",
    "## [3. Modeling](#3.)\n",
    "\n",
    "* ### [3.0. Predicting expected value](#3.0.)\n",
    "* ### [3.1. Predicting min losses](#3.1.)"
   ]
  },
  {
   "cell_type": "markdown",
   "metadata": {},
   "source": [
    "## 1. Import libraries<a id='1.'></a>"
   ]
  },
  {
   "cell_type": "code",
   "execution_count": 1,
   "metadata": {},
   "outputs": [],
   "source": [
    "import numpy as np\n",
    "import pandas as pd\n",
    "import matplotlib.pyplot as plt\n",
    "import seaborn as sns\n",
    "import scipy.stats as stats\n",
    "\n",
    "from sklearn.model_selection import train_test_split, GridSearchCV, cross_validate\n",
    "from sklearn.ensemble import RandomForestRegressor, GradientBoostingRegressor, AdaBoostRegressor\n",
    "from sklearn.linear_model import LinearRegression\n",
    "from sklearn.preprocessing import PolynomialFeatures, MinMaxScaler, RobustScaler, StandardScaler\n",
    "from sklearn.metrics import r2_score\n",
    "from sklearn.pipeline import Pipeline\n",
    "from sklearn.neural_network import MLPRegressor\n",
    "\n",
    "\n",
    "\n",
    "import time\n",
    "import json\n",
    "\n",
    "plt.rcParams['figure.figsize'] = [15,10]\n",
    "\n",
    "import warnings\n",
    "warnings.filterwarnings('ignore')"
   ]
  },
  {
   "cell_type": "markdown",
   "metadata": {},
   "source": [
    "## 2. Obtain summary DataFrame<a id='2.'></a>"
   ]
  },
  {
   "cell_type": "code",
   "execution_count": null,
   "metadata": {},
   "outputs": [],
   "source": [
    "# losses function without plots\n",
    "\n",
    "def losses(df):\n",
    "    df.reset_index(drop=True, inplace=True)\n",
    "    mins = []\n",
    "    np.random.seed(11)\n",
    "    start_indexes = np.random.choice(950000, size=100000, replace=False)\n",
    "    for i in start_indexes:\n",
    "        sample50k = np.array(df.loc[i:i + 49999, 'accumulated_winnings'])\n",
    "        if i != 0:\n",
    "            mins.append(sample50k.min() - df.loc[i-1,'accumulated_winnings'])\n",
    "        else:\n",
    "            mins.append(sample50k.min())\n",
    "    return mins"
   ]
  },
  {
   "cell_type": "markdown",
   "metadata": {},
   "source": [
    "Produce dataframe with summary stats for non-counter strategies."
   ]
  },
  {
   "cell_type": "code",
   "execution_count": null,
   "metadata": {
    "scrolled": true
   },
   "outputs": [],
   "source": [
    "strats = ['naive','cc','basic']\n",
    "decks = [2,4,6]\n",
    "pens = [0.5, 1, 1.5, 2]\n",
    "seventeens = ['S17','H17']\n",
    "BJpayouts = [[3,2],[6,5]]\n",
    "\n",
    "product = []\n",
    "for strat in strats:\n",
    "    for deck in decks:\n",
    "        for pen in pens:\n",
    "            for seventeen in seventeens:\n",
    "                for BJpay in BJpayouts:\n",
    "                    if pen == deck:\n",
    "                        continue\n",
    "                    else:\n",
    "                        product.append((strat,deck,pen,BJpay,seventeen))\n",
    "                    \n",
    "\n",
    "strat_list = []\n",
    "deck_list = []\n",
    "pen_list = []\n",
    "seventeen_list = []\n",
    "BJ_pay_list = []\n",
    "prob_win_list = []\n",
    "EV_list = []\n",
    "prob_win_pos_list = []\n",
    "EV_pos_list = []\n",
    "fifth_loss_list = []\n",
    "\n",
    "for params in product:\n",
    "    strat, deck, pen, BJ_pay, seventeen = params\n",
    "    strat_list.append(strat)\n",
    "    deck_list.append(deck)\n",
    "    pen_list.append(pen)\n",
    "    seventeen_list.append(seventeen)\n",
    "    BJ_pay_list.append(BJ_pay)\n",
    "    read_path = '/media/saa/My Passport/Blackjack/sim_dfs/%s/%s_%s_%s_%s_%s.csv'\\\n",
    "    %(strat,deck,pen,seventeen, BJpay, strat)\n",
    "    df = pd.read_csv(read_path)\n",
    "    prob_win_list.append(np.sum(df['total_round_winnings'] >=0)/1000000)\n",
    "    EV_list.append(np.mean(df['total_round_winnings']))\n",
    "    prob_win_pos_list.append(np.sum((df['opening_count']>0) & (df['total_round_winnings']>= 0))\n",
    "                      /np.sum(df['opening_count']>0) )  \n",
    "    EV_pos_list.append(np.mean(df[df['opening_count']>0]['total_round_winnings']))\n",
    "    fifth_loss_list.append(np.percentile(losses(df),[0,5])[1])\n",
    "    \n",
    "\n",
    "\n",
    "dic = {'strategy':strat_list, 'decks':deck_list,\\\n",
    "       'penetration':pen_list, 'seventeen':seventeen_list,\\\n",
    "       'BJ_payout':BJ_pay_list, 'probability_of_winning':prob_win_list,\\\n",
    "       'expected_value':EV_list, 'prob_of_winning_on_pos_count':prob_win_pos_list,\\\n",
    "       'expected_value_on_pos_count':EV_pos_list, 'fifth_percentile_loss':fifth_loss_list}\n",
    "out = pd.DataFrame(dic)\n",
    "out.to_csv('summary_dfs/noncounters.csv')"
   ]
  },
  {
   "cell_type": "code",
   "execution_count": null,
   "metadata": {},
   "outputs": [],
   "source": [
    "noncounters = pd.read_csv('summary_dfs/noncounters.csv')"
   ]
  },
  {
   "cell_type": "markdown",
   "metadata": {},
   "source": [
    "Append count bet and spot columns to eventually align with counters summary DataFrame."
   ]
  },
  {
   "cell_type": "code",
   "execution_count": null,
   "metadata": {},
   "outputs": [],
   "source": [
    "for count in range(-1,7):\n",
    "    noncounters['%s_count_bet'%(count)] = 1\n",
    "    noncounters['%s_count_spot'%(count)] = 1"
   ]
  },
  {
   "cell_type": "code",
   "execution_count": null,
   "metadata": {},
   "outputs": [],
   "source": [
    "noncounters = noncounters.drop('Unnamed: 0', axis = 1)\n",
    "noncounters.columns"
   ]
  },
  {
   "cell_type": "code",
   "execution_count": null,
   "metadata": {},
   "outputs": [],
   "source": [
    "cols = ['strategy', 'decks', 'penetration', 'seventeen', 'BJ_payout', '-1_count_bet', '-1_count_spot', '0_count_bet',\n",
    "       '0_count_spot', '1_count_bet', '1_count_spot', '2_count_bet',\n",
    "       '2_count_spot', '3_count_bet', '3_count_spot', '4_count_bet',\n",
    "       '4_count_spot', '5_count_bet', '5_count_spot', '6_count_bet',\n",
    "       '6_count_spot',\n",
    "       'probability_of_winning', 'expected_value',\n",
    "       'prob_of_winning_on_pos_count', 'expected_value_on_pos_count',\n",
    "       'fifth_percentile_loss']\n",
    "\n",
    "noncounters = noncounters[cols]"
   ]
  },
  {
   "cell_type": "code",
   "execution_count": null,
   "metadata": {},
   "outputs": [],
   "source": [
    "noncounters.to_csv('summary_dfs/noncounters.csv')"
   ]
  },
  {
   "cell_type": "markdown",
   "metadata": {},
   "source": [
    "Now for the counters:"
   ]
  },
  {
   "cell_type": "code",
   "execution_count": null,
   "metadata": {},
   "outputs": [],
   "source": [
    "# generate product list of parameters (again)\n",
    "\n",
    "decks = [2,4,6]\n",
    "pens = [0.5, 1, 1.5, 2]\n",
    "seventeens = ['S17','H17']\n",
    "BJpayouts = [[3,2],[6,5]]\n",
    "\n",
    "product = []\n",
    "for deck in decks:\n",
    "    for pen in pens:\n",
    "        for seventeen in seventeens:\n",
    "            for BJpays in BJpayouts:\n",
    "                if pen == deck:\n",
    "                    continue\n",
    "                else:\n",
    "                    product.append((deck,pen,seventeen,BJpays))"
   ]
  },
  {
   "cell_type": "markdown",
   "metadata": {},
   "source": [
    "Form spreads dictionary"
   ]
  },
  {
   "cell_type": "code",
   "execution_count": null,
   "metadata": {},
   "outputs": [],
   "source": [
    "# function to replace the second entry in a list to a 1\n",
    "def to_one(ls):\n",
    "    new = [i for i in ls]\n",
    "    new[1] = 1\n",
    "    return new\n",
    "\n",
    "def dict_one(dic):\n",
    "    return {key:to_one(dic[key]) for key in list(dic.keys())}\n",
    "    "
   ]
  },
  {
   "cell_type": "code",
   "execution_count": null,
   "metadata": {},
   "outputs": [],
   "source": [
    "# spreads dictionary\n",
    "\n",
    "spreads = {}\n",
    "\n",
    "spreads['twelve'] = {-1:[1,1], 0:[1,1], 1:[1,2], 2:[4,2], 3:[6,2], 4:[8,2], 5:[10,2], 6:[12,2]}\n",
    "spreads['twelve_1'] = dict_one(spreads['twelve'])\n",
    "\n",
    "spreads['twenty_a'] = {-1:[1,1], 0:[1,1], 1:[2,2], 2:[6,2], 3:[10,2], 4:[13,2], 5:[17,2], 6:[20,2]}\n",
    "spreads['twenty_a_1'] = dict_one(spreads['twenty_a'])\n",
    "\n",
    "spreads['six'] = {-1:[1,1], 0:[1,1], 1:[1,2], 2:[2,1], 3:[3,2], 4:[4,2], 5:[5,2], 6:[6,2]}\n",
    "spreads['six_1'] = dict_one(spreads['six'])\n",
    "\n",
    "spreads['fifty'] = {-1:[1,1], 0:[1,1], 1:[5,1], 2:[10,1], 3:[20,2], 4:[30,2], 5:[40,2], 6:[50,2]}\n",
    "spreads['fifty_1'] = dict_one(spreads['fifty'])\n",
    "\n",
    "spreads['eight'] = {-1:[1,1], 0:[1,1], 1:[1,1], 2:[2,1], 3:[3,1], 4:[5,2], 5:[6,2], 6:[8,2]}\n",
    "spreads['eight_1'] = dict_one(spreads['eight'])\n",
    "\n",
    "spreads['eighteen'] = {-1:[1,1], 0:[1,1], 1:[3,2], 2:[6,2], 3:[9,2], 4:[12,2], 5:[15,2], 6:[18,2]}\n",
    "spreads['eighteen_1'] = dict_one(spreads['eighteen'])\n",
    "\n",
    "spreads['twenty-four'] = {-1:[1,1], 0:[1,1], 1:[4,1], 2:[8,1], 3:[14,1], 4:[16,2], 5:[18,2], 6:[24,2]}\n",
    "spreads['twenty-four_1'] = dict_one(spreads['twenty-four'])\n",
    "\n",
    "spreads['twenty_b'] = {-1:[1,1], 0:[1,1], 1:[3,2], 2:[6,2], 3:[9,2], 4:[12,2], 5:[15,2], 6:[20,2]}\n",
    "spreads['twenty_b_1'] = dict_one(spreads['twenty_b'])\n",
    "\n",
    "spreads['thirty'] = {-1:[1,1], 0:[1,1], 1:[5,1], 2:[10,1], 3:[15,1], 4:[20,2], 5:[25,2], 6:[30,2]}\n",
    "spreads['thirty_1'] = dict_one(spreads['thirty'])\n",
    "\n",
    "spreads['sixteen'] = {-1:[1,1], 0:[1,1], 1:[1,1], 2:[4,1], 3:[7,1], 4:[10,1], 5:[12,2], 6:[16,2]}\n",
    "spreads['sixteen_1'] = dict_one(spreads['sixteen'])"
   ]
  },
  {
   "cell_type": "markdown",
   "metadata": {},
   "source": [
    "Produce summary DataFrame from counter samples"
   ]
  },
  {
   "cell_type": "code",
   "execution_count": null,
   "metadata": {
    "scrolled": true
   },
   "outputs": [],
   "source": [
    "strat_list = []\n",
    "deck_list = []\n",
    "pen_list = []\n",
    "seventeen_list = []\n",
    "BJ_pay_list = []\n",
    "prob_win_list = []\n",
    "EV_list = []\n",
    "prob_win_pos_list = []\n",
    "EV_pos_list = []\n",
    "fifth_loss_list = []\n",
    "\n",
    "strat = 'counter'\n",
    "\n",
    "minus_one_count_bet_list = []\n",
    "minus_one_count_spot_list = []\n",
    "\n",
    "zero_count_bet_list = []\n",
    "zero_count_spot_list = []\n",
    "\n",
    "one_count_bet_list = []\n",
    "one_count_spot_list = []\n",
    "\n",
    "two_count_bet_list = []\n",
    "two_count_spot_list = []\n",
    "\n",
    "three_count_bet_list = []\n",
    "three_count_spot_list = []\n",
    "\n",
    "four_count_bet_list = []\n",
    "four_count_spot_list = []\n",
    "\n",
    "five_count_bet_list = []\n",
    "five_count_spot_list = []\n",
    "\n",
    "six_count_bet_list = []\n",
    "six_count_spot_list = []\n",
    "\n",
    "for spread_name in list(spreads.keys()):\n",
    "    for params in product:\n",
    "        start = time.time()\n",
    "        deck, pen, seventeen, BJ_pays = params\n",
    "        strat_list.append(strat)\n",
    "        deck_list.append(deck)\n",
    "        pen_list.append(pen)\n",
    "        seventeen_list.append(seventeen)\n",
    "        BJ_pay_list.append(BJ_pays)\n",
    "        read_path = '/media/saa/My Passport/Blackjack/sim_dfs/%s/%s/%s_%s_%s_%s_%s.csv'\\\n",
    "        %(strat,spread_name,deck,pen,seventeen, BJpays, spread_name)\n",
    "        df = pd.read_csv(read_path)\n",
    "        prob_win_list.append(np.sum(df['total_round_winnings'] >=0)/1000000)\n",
    "        EV_list.append(np.mean(df['total_round_winnings']))\n",
    "        prob_win_pos_list.append(np.sum((df['opening_count']>0) & (df['total_round_winnings']>= 0))\n",
    "                          /np.sum(df['opening_count']>0) )  \n",
    "        EV_pos_list.append(np.mean(df[df['opening_count']>0]['total_round_winnings']))\n",
    "        fifth_loss_list.append(np.percentile(losses(df),[0,5])[1])\n",
    "        \n",
    "        minus_one_count_bet_list.append(spreads[spread_name][-1][0])\n",
    "        minus_one_count_spot_list.append(spreads[spread_name][-1][1])\n",
    "\n",
    "        zero_count_bet_list.append(spreads[spread_name][0][0])\n",
    "        zero_count_spot_list.append(spreads[spread_name][0][1])\n",
    "\n",
    "        one_count_bet_list.append(spreads[spread_name][1][0])\n",
    "        one_count_spot_list.append(spreads[spread_name][1][1])\n",
    "\n",
    "        two_count_bet_list.append(spreads[spread_name][2][0])\n",
    "        two_count_spot_list.append(spreads[spread_name][2][1])\n",
    "\n",
    "        three_count_bet_list.append(spreads[spread_name][3][0])\n",
    "        three_count_spot_list.append(spreads[spread_name][3][1])\n",
    "\n",
    "        four_count_bet_list.append(spreads[spread_name][4][0])\n",
    "        four_count_spot_list.append(spreads[spread_name][4][1])\n",
    "\n",
    "        five_count_bet_list.append(spreads[spread_name][5][0])\n",
    "        five_count_spot_list.append(spreads[spread_name][5][1])\n",
    "\n",
    "        six_count_bet_list.append(spreads[spread_name][6][0])\n",
    "        six_count_spot_list.append(spreads[spread_name][6][1])\n",
    "        end = time.time()\n",
    "        \n",
    "        print('%s %s %s %s %s done'%(deck,pen,seventeen,BJpays,spread_name))\n",
    "        print('time elapsed: ', end-start)\n",
    "        \n",
    "dic = {'strategy':strat_list,\\\n",
    "       'decks':deck_list,\\\n",
    "       'penetration':pen_list,\\\n",
    "       'seventeen':seventeen_list,\\\n",
    "       'BJ_payout':BJ_pay_list,\\\n",
    "       '-1_count_bet':minus_one_count_bet_list,\\\n",
    "       '-1_count_spot':minus_one_count_spot_list,\\\n",
    "       '0_count_bet':zero_count_bet_list,\\\n",
    "       '0_count_spot':zero_count_spot_list,\\\n",
    "       '1_count_bet':one_count_bet_list,\\\n",
    "       '1_count_spot':one_count_spot_list,\\\n",
    "       '2_count_bet':two_count_bet_list,\\\n",
    "       '2_count_spot':two_count_spot_list,\\\n",
    "       '3_count_bet':three_count_bet_list,\\\n",
    "       '3_count_spot':three_count_spot_list,\\\n",
    "       '4_count_bet':four_count_bet_list,\\\n",
    "       '4_count_spot':four_count_spot_list,\\\n",
    "       '5_count_bet':five_count_bet_list,\\\n",
    "       '5_count_spot':five_count_spot_list,\\\n",
    "       '6_count_bet':six_count_bet_list,\\\n",
    "       '6_count_spot':six_count_spot_list,\\\n",
    "       'probability_of_winning':prob_win_list,\\\n",
    "       'expected_value':EV_list,\\\n",
    "       'prob_of_winning_on_pos_count':prob_win_pos_list,\\\n",
    "       'expected_value_on_pos_count':EV_pos_list,\\\n",
    "       'fifth_percentile_loss':fifth_loss_list}\n",
    "out = pd.DataFrame(dic)\n",
    "out.to_csv('summary_dfs/counters.csv')"
   ]
  },
  {
   "cell_type": "markdown",
   "metadata": {},
   "source": [
    "## 3. Modeling<a id='3.'></a>"
   ]
  },
  {
   "cell_type": "markdown",
   "metadata": {},
   "source": [
    "Train a model to predict expected value, min losses given a certain game and bet spread. To be completed once all samples are simulated."
   ]
  },
  {
   "cell_type": "code",
   "execution_count": 2,
   "metadata": {},
   "outputs": [],
   "source": [
    "df = pd.read_csv('summary_dfs/counters.csv')\n",
    "df = df.drop(['Unnamed: 0','strategy'], axis=1)\n",
    "df = pd.get_dummies(df)\n",
    "df = df.drop(['seventeen_S17','BJ_payout_[6, 5]'], axis=1)"
   ]
  },
  {
   "cell_type": "code",
   "execution_count": 3,
   "metadata": {},
   "outputs": [],
   "source": [
    "X = df.drop(['probability_of_winning','expected_value','prob_of_winning_on_pos_count','expected_value_on_pos_count','fifth_percentile_loss'],axis=1)\n",
    "EV = df['expected_value']\n",
    "losses = df['fifth_percentile_loss']\n",
    "\n",
    "itrain, itest = train_test_split(range(df.shape[0]), test_size = 0.25, random_state=2)\n",
    "\n",
    "mask = np.zeros(df.shape[0], dtype=np.bool)\n",
    "mask[itrain] = True\n",
    "\n",
    "\n",
    "X_train, X_test, EV_train, EV_test, losses_train, losses_test = X[mask], X[~mask], EV[mask], EV[~mask], losses[mask], losses[~mask]\n"
   ]
  },
  {
   "cell_type": "markdown",
   "metadata": {},
   "source": [
    "### 3.0. Predicting expected value<a id='3.0.'></a>"
   ]
  },
  {
   "cell_type": "markdown",
   "metadata": {},
   "source": [
    "Gridsearch Polynomial Regression predicting EV"
   ]
  },
  {
   "cell_type": "code",
   "execution_count": null,
   "metadata": {
    "scrolled": false
   },
   "outputs": [],
   "source": [
    "start = time.time()\n",
    "\n",
    "steps = [('poly',PolynomialFeatures()), ('lr', LinearRegression())]\n",
    "\n",
    "degrees = [1,2,3,4]\n",
    "\n",
    "polyreg_params = {'poly__degree':degrees}\n",
    "\n",
    "polyreg_pipe = Pipeline(steps)\n",
    "\n",
    "polyreg_EV_cv = GridSearchCV(polyreg_pipe, param_grid=polyreg_params, cv=3)\n",
    "\n",
    "polyreg_EV_cv.fit(X_train,EV_train)\n",
    "\n",
    "end = time.time()\n",
    "\n",
    "\n",
    "\n",
    "print('Time elapsed: ', end-start)\n",
    "\n",
    "polyreg_EV_df = pd.DataFrame(polyreg_EV_cv.cv_results_)\n",
    "polyreg_EV_df.to_csv('BJ_regression/polyreg_EV_cv_results.csv')\n",
    "print(polyreg_EV_cv.best_score_)\n",
    "\n"
   ]
  },
  {
   "cell_type": "code",
   "execution_count": 4,
   "metadata": {},
   "outputs": [
    {
     "data": {
      "text/html": [
       "<div>\n",
       "<style scoped>\n",
       "    .dataframe tbody tr th:only-of-type {\n",
       "        vertical-align: middle;\n",
       "    }\n",
       "\n",
       "    .dataframe tbody tr th {\n",
       "        vertical-align: top;\n",
       "    }\n",
       "\n",
       "    .dataframe thead th {\n",
       "        text-align: right;\n",
       "    }\n",
       "</style>\n",
       "<table border=\"1\" class=\"dataframe\">\n",
       "  <thead>\n",
       "    <tr style=\"text-align: right;\">\n",
       "      <th></th>\n",
       "      <th>Unnamed: 0</th>\n",
       "      <th>mean_fit_time</th>\n",
       "      <th>std_fit_time</th>\n",
       "      <th>mean_score_time</th>\n",
       "      <th>std_score_time</th>\n",
       "      <th>param_poly__degree</th>\n",
       "      <th>params</th>\n",
       "      <th>split0_test_score</th>\n",
       "      <th>split1_test_score</th>\n",
       "      <th>split2_test_score</th>\n",
       "      <th>mean_test_score</th>\n",
       "      <th>std_test_score</th>\n",
       "      <th>rank_test_score</th>\n",
       "      <th>split0_train_score</th>\n",
       "      <th>split1_train_score</th>\n",
       "      <th>split2_train_score</th>\n",
       "      <th>mean_train_score</th>\n",
       "      <th>std_train_score</th>\n",
       "    </tr>\n",
       "  </thead>\n",
       "  <tbody>\n",
       "    <tr>\n",
       "      <th>3</th>\n",
       "      <td>3</td>\n",
       "      <td>8.146762</td>\n",
       "      <td>0.269915</td>\n",
       "      <td>0.650486</td>\n",
       "      <td>0.025011</td>\n",
       "      <td>4</td>\n",
       "      <td>{'poly__degree': 4}</td>\n",
       "      <td>-6.743394e+16</td>\n",
       "      <td>-2.322724e+16</td>\n",
       "      <td>-4178.642465</td>\n",
       "      <td>-3.022039e+16</td>\n",
       "      <td>2.797037e+16</td>\n",
       "      <td>1</td>\n",
       "      <td>0.997067</td>\n",
       "      <td>0.998537</td>\n",
       "      <td>0.997781</td>\n",
       "      <td>0.997795</td>\n",
       "      <td>0.0006</td>\n",
       "    </tr>\n",
       "  </tbody>\n",
       "</table>\n",
       "</div>"
      ],
      "text/plain": [
       "   Unnamed: 0  mean_fit_time  std_fit_time  mean_score_time  std_score_time  \\\n",
       "3           3       8.146762      0.269915         0.650486        0.025011   \n",
       "\n",
       "   param_poly__degree               params  split0_test_score  \\\n",
       "3                   4  {'poly__degree': 4}      -6.743394e+16   \n",
       "\n",
       "   split1_test_score  split2_test_score  mean_test_score  std_test_score  \\\n",
       "3      -2.322724e+16       -4178.642465    -3.022039e+16    2.797037e+16   \n",
       "\n",
       "   rank_test_score  split0_train_score  split1_train_score  \\\n",
       "3                1            0.997067            0.998537   \n",
       "\n",
       "   split2_train_score  mean_train_score  std_train_score  \n",
       "3            0.997781          0.997795           0.0006  "
      ]
     },
     "execution_count": 4,
     "metadata": {},
     "output_type": "execute_result"
    }
   ],
   "source": [
    "# top result from above gridsearch\n",
    "polyreg_EV_df = pd.read_csv('BJ_regression/polyreg_EV_cv_results.csv')\n",
    "polyreg_EV_df.sort_values('rank_test_score').head(1)"
   ]
  },
  {
   "cell_type": "code",
   "execution_count": 5,
   "metadata": {
    "scrolled": false
   },
   "outputs": [
    {
     "name": "stdout",
     "output_type": "stream",
     "text": [
      "polyreg EV R^2:  0.9773879163275925\n"
     ]
    },
    {
     "data": {
      "image/png": "[encoded data removed]",
      "text/plain": [
       "<Figure size 432x288 with 1 Axes>"
      ]
     },
     "metadata": {
      "needs_background": "light"
     },
     "output_type": "display_data"
    }
   ],
   "source": [
    "steps = [('poly',PolynomialFeatures(4)), ('lr', LinearRegression())]\n",
    "\n",
    "polyreg_EV = Pipeline(steps)\n",
    "polyreg_EV.fit(X_train,EV_train)\n",
    "EV_pred = polyreg_EV.predict(X_test)\n",
    "print('polyreg EV R^2: ', r2_score(EV_test,EV_pred))\n",
    "\n",
    "plt.scatter(EV_pred, EV_test)\n",
    "plt.plot([0,0.45],[0,0.45], c='r')\n",
    "plt.title('Polynomial Regression on EV, degree 4',fontsize = 18)\n",
    "plt.xlabel('predicted values',fontsize = 18)\n",
    "plt.ylabel('actual values', fontsize = 18)\n",
    "plt.savefig('plots/polyreg_EV.jpeg')\n",
    "plt.show()"
   ]
  },
  {
   "cell_type": "markdown",
   "metadata": {},
   "source": [
    "Gridsearch `RandomForestRegressor` predicting EV."
   ]
  },
  {
   "cell_type": "code",
   "execution_count": null,
   "metadata": {},
   "outputs": [],
   "source": [
    "start = time.time()\n",
    "\n",
    "steps = [('RF', RandomForestRegressor(random_state=2))]\n",
    "\n",
    "n_est = [int(n) for n in np.logspace(start=1,stop=3, num=10)]\n",
    "\n",
    "criteria = ['mse', 'mae']\n",
    "\n",
    "depths = [int(n) for n in np.logspace(start=1, stop=2, num=10)]\n",
    "\n",
    "num_features = ['auto','sqrt','log2']\n",
    "\n",
    "RF_params = {'RF__n_estimators': n_est,\n",
    "            'RF__criterion': criteria,\n",
    "            'RF__max_depth': depths,\n",
    "            'RF__max_features': num_features\n",
    "            }\n",
    "\n",
    "RF_pipe = Pipeline(steps)\n",
    "\n",
    "RF_EV_cv = GridSearchCV(RF_pipe, param_grid=RF_params, cv=3)\n",
    "\n",
    "RF_EV_cv.fit(X_train,EV_train)\n",
    "\n",
    "end = time.time()\n",
    "\n",
    "\n",
    "\n",
    "print('Time elapsed: ', end-start)\n",
    "\n",
    "RF_EV_df = pd.DataFrame(RF_EV_cv.cv_results_)\n",
    "RF_EV_df.to_csv('BJ_regression/RF_EV_cv_results.csv')\n",
    "print(RF_EV_cv.best_score_)\n",
    "\n",
    "RF_EV = RF_EV_cv.best_estimator_\n",
    "RF_EV.fit(X_train,EV_train)\n",
    "EV_pred = RF_EV.predict(X_test)\n",
    "print('R^2: ', r2_score(EV_test,EV_pred))\n",
    "\n",
    "plt.scatter(EV_pred, EV_test)\n",
    "plt.plot([0,0.3],[0,0.3], c='r')\n",
    "plt.title('RF Regression on EV',fontsize = 18)\n",
    "plt.xlabel('predicted values',fontsize = 18)\n",
    "plt.ylabel('actual values', fontsize = 18)\n",
    "plt.show()"
   ]
  },
  {
   "cell_type": "code",
   "execution_count": 6,
   "metadata": {},
   "outputs": [
    {
     "data": {
      "text/html": [
       "<div>\n",
       "<style scoped>\n",
       "    .dataframe tbody tr th:only-of-type {\n",
       "        vertical-align: middle;\n",
       "    }\n",
       "\n",
       "    .dataframe tbody tr th {\n",
       "        vertical-align: top;\n",
       "    }\n",
       "\n",
       "    .dataframe thead th {\n",
       "        text-align: right;\n",
       "    }\n",
       "</style>\n",
       "<table border=\"1\" class=\"dataframe\">\n",
       "  <thead>\n",
       "    <tr style=\"text-align: right;\">\n",
       "      <th></th>\n",
       "      <th>Unnamed: 0</th>\n",
       "      <th>mean_fit_time</th>\n",
       "      <th>std_fit_time</th>\n",
       "      <th>mean_score_time</th>\n",
       "      <th>std_score_time</th>\n",
       "      <th>param_RF__criterion</th>\n",
       "      <th>param_RF__max_depth</th>\n",
       "      <th>param_RF__max_features</th>\n",
       "      <th>param_RF__n_estimators</th>\n",
       "      <th>params</th>\n",
       "      <th>...</th>\n",
       "      <th>split1_test_score</th>\n",
       "      <th>split2_test_score</th>\n",
       "      <th>mean_test_score</th>\n",
       "      <th>std_test_score</th>\n",
       "      <th>rank_test_score</th>\n",
       "      <th>split0_train_score</th>\n",
       "      <th>split1_train_score</th>\n",
       "      <th>split2_train_score</th>\n",
       "      <th>mean_train_score</th>\n",
       "      <th>std_train_score</th>\n",
       "    </tr>\n",
       "  </thead>\n",
       "  <tbody>\n",
       "    <tr>\n",
       "      <th>309</th>\n",
       "      <td>309</td>\n",
       "      <td>26.472752</td>\n",
       "      <td>0.723926</td>\n",
       "      <td>0.175549</td>\n",
       "      <td>0.000965</td>\n",
       "      <td>mae</td>\n",
       "      <td>10</td>\n",
       "      <td>auto</td>\n",
       "      <td>1000</td>\n",
       "      <td>{'RF__criterion': 'mae', 'RF__max_depth': 10, ...</td>\n",
       "      <td>...</td>\n",
       "      <td>0.915799</td>\n",
       "      <td>0.942781</td>\n",
       "      <td>0.915562</td>\n",
       "      <td>0.022321</td>\n",
       "      <td>1</td>\n",
       "      <td>0.996349</td>\n",
       "      <td>0.997656</td>\n",
       "      <td>0.997695</td>\n",
       "      <td>0.997233</td>\n",
       "      <td>0.000625</td>\n",
       "    </tr>\n",
       "  </tbody>\n",
       "</table>\n",
       "<p>1 rows × 21 columns</p>\n",
       "</div>"
      ],
      "text/plain": [
       "     Unnamed: 0  mean_fit_time  std_fit_time  mean_score_time  std_score_time  \\\n",
       "309         309      26.472752      0.723926         0.175549        0.000965   \n",
       "\n",
       "    param_RF__criterion  param_RF__max_depth param_RF__max_features  \\\n",
       "309                 mae                   10                   auto   \n",
       "\n",
       "     param_RF__n_estimators  \\\n",
       "309                    1000   \n",
       "\n",
       "                                                params       ...         \\\n",
       "309  {'RF__criterion': 'mae', 'RF__max_depth': 10, ...       ...          \n",
       "\n",
       "     split1_test_score  split2_test_score  mean_test_score  std_test_score  \\\n",
       "309           0.915799           0.942781         0.915562        0.022321   \n",
       "\n",
       "     rank_test_score  split0_train_score  split1_train_score  \\\n",
       "309                1            0.996349            0.997656   \n",
       "\n",
       "     split2_train_score  mean_train_score  std_train_score  \n",
       "309            0.997695          0.997233         0.000625  \n",
       "\n",
       "[1 rows x 21 columns]"
      ]
     },
     "execution_count": 6,
     "metadata": {},
     "output_type": "execute_result"
    }
   ],
   "source": [
    "# top result from gridsearch\n",
    "RF_EV_df = pd.read_csv('BJ_regression/RF_EV_cv_results.csv')\n",
    "RF_EV_df.sort_values('rank_test_score').head(1)"
   ]
  },
  {
   "cell_type": "code",
   "execution_count": 7,
   "metadata": {},
   "outputs": [
    {
     "name": "stdout",
     "output_type": "stream",
     "text": [
      "RF EV R^2:  0.9915859862213448\n"
     ]
    },
    {
     "data": {
      "image/png": "[encoded data removed]",
      "text/plain": [
       "<Figure size 432x288 with 1 Axes>"
      ]
     },
     "metadata": {
      "needs_background": "light"
     },
     "output_type": "display_data"
    }
   ],
   "source": [
    "RF_EV = RandomForestRegressor(random_state=2,criterion='mae',max_depth=10, max_features='auto', n_estimators=1000)\n",
    "RF_EV.fit(X_train,EV_train)\n",
    "EV_pred = RF_EV.predict(X_test)\n",
    "print('RF EV R^2: ', r2_score(EV_test,EV_pred))\n",
    "\n",
    "plt.scatter(EV_pred, EV_test)\n",
    "plt.plot([0,0.45],[0,0.45], c='r')\n",
    "plt.title('RF Regression on EV',fontsize = 18)\n",
    "plt.xlabel('predicted values',fontsize = 18)\n",
    "plt.ylabel('actual values', fontsize = 18)\n",
    "plt.savefig('plots/RF_EV.jpeg')\n",
    "plt.show()"
   ]
  },
  {
   "cell_type": "markdown",
   "metadata": {},
   "source": [
    "### 3.1. Predicting Min Losses<a id='3.1.'></a>"
   ]
  },
  {
   "cell_type": "markdown",
   "metadata": {},
   "source": [
    "Gridsearch Polynomial Regression predicting fifth percentile minimum losses"
   ]
  },
  {
   "cell_type": "code",
   "execution_count": null,
   "metadata": {
    "scrolled": true
   },
   "outputs": [],
   "source": [
    "# grid search polynomial regression\n",
    "\n",
    "start = time.time()\n",
    "\n",
    "steps = [('poly',PolynomialFeatures()), ('lr', LinearRegression())]\n",
    "\n",
    "degrees = [1,2,3,4]\n",
    "\n",
    "polyreg_params = {'poly__degree':degrees}\n",
    "\n",
    "polyreg_pipe = Pipeline(steps)\n",
    "\n",
    "polyreg_losses_cv = GridSearchCV(polyreg_pipe, param_grid=polyreg_params, cv=3)\n",
    "\n",
    "polyreg_losses_cv.fit(X_train,losses_train)\n",
    "\n",
    "end = time.time()\n",
    "\n",
    "\n",
    "\n",
    "print('Time elapsed: ', end-start)\n",
    "\n",
    "polyreg_losses_df = pd.DataFrame(polyreg_losses_cv.cv_results_)\n",
    "polyreg_losses_df.to_csv('BJ_regression/polyreg_losses_cv_results.csv')\n",
    "print(polyreg_losses_cv.best_score_)\n",
    "\n",
    "polyreg_losses = polyreg_losses_cv.best_estimator_\n",
    "polyreg_losses.fit(X_train,losses_train)\n",
    "losses_pred = polyreg_losses.predict(X_test)\n",
    "print('polyreg losses R^2: ', r2_score(losses_test,losses_pred))\n",
    "\n",
    "plt.scatter(losses_pred, losses_test)\n",
    "plt.plot([-8000,0],[-8000,0], c='r')\n",
    "plt.title('Polynomial Regression on losses, degree 4',fontsize = 18)\n",
    "plt.xlabel('predicted values',fontsize = 18)\n",
    "plt.ylabel('actual values', fontsize = 18)\n",
    "plt.savefig('plots/polyreg_losses.jpeg')\n",
    "plt.show()"
   ]
  },
  {
   "cell_type": "code",
   "execution_count": 8,
   "metadata": {},
   "outputs": [
    {
     "data": {
      "text/html": [
       "<div>\n",
       "<style scoped>\n",
       "    .dataframe tbody tr th:only-of-type {\n",
       "        vertical-align: middle;\n",
       "    }\n",
       "\n",
       "    .dataframe tbody tr th {\n",
       "        vertical-align: top;\n",
       "    }\n",
       "\n",
       "    .dataframe thead th {\n",
       "        text-align: right;\n",
       "    }\n",
       "</style>\n",
       "<table border=\"1\" class=\"dataframe\">\n",
       "  <thead>\n",
       "    <tr style=\"text-align: right;\">\n",
       "      <th></th>\n",
       "      <th>Unnamed: 0</th>\n",
       "      <th>mean_fit_time</th>\n",
       "      <th>std_fit_time</th>\n",
       "      <th>mean_score_time</th>\n",
       "      <th>std_score_time</th>\n",
       "      <th>param_poly__degree</th>\n",
       "      <th>params</th>\n",
       "      <th>split0_test_score</th>\n",
       "      <th>split1_test_score</th>\n",
       "      <th>split2_test_score</th>\n",
       "      <th>mean_test_score</th>\n",
       "      <th>std_test_score</th>\n",
       "      <th>rank_test_score</th>\n",
       "      <th>split0_train_score</th>\n",
       "      <th>split1_train_score</th>\n",
       "      <th>split2_train_score</th>\n",
       "      <th>mean_train_score</th>\n",
       "      <th>std_train_score</th>\n",
       "    </tr>\n",
       "  </thead>\n",
       "  <tbody>\n",
       "    <tr>\n",
       "      <th>3</th>\n",
       "      <td>3</td>\n",
       "      <td>7.896878</td>\n",
       "      <td>0.026118</td>\n",
       "      <td>0.648407</td>\n",
       "      <td>0.000826</td>\n",
       "      <td>4</td>\n",
       "      <td>{'poly__degree': 4}</td>\n",
       "      <td>-8.514622e+17</td>\n",
       "      <td>-1.804390e+18</td>\n",
       "      <td>-16440.980665</td>\n",
       "      <td>-8.852839e+17</td>\n",
       "      <td>7.370271e+17</td>\n",
       "      <td>1</td>\n",
       "      <td>0.968429</td>\n",
       "      <td>0.984886</td>\n",
       "      <td>0.981024</td>\n",
       "      <td>0.978113</td>\n",
       "      <td>0.007027</td>\n",
       "    </tr>\n",
       "  </tbody>\n",
       "</table>\n",
       "</div>"
      ],
      "text/plain": [
       "   Unnamed: 0  mean_fit_time  std_fit_time  mean_score_time  std_score_time  \\\n",
       "3           3       7.896878      0.026118         0.648407        0.000826   \n",
       "\n",
       "   param_poly__degree               params  split0_test_score  \\\n",
       "3                   4  {'poly__degree': 4}      -8.514622e+17   \n",
       "\n",
       "   split1_test_score  split2_test_score  mean_test_score  std_test_score  \\\n",
       "3      -1.804390e+18      -16440.980665    -8.852839e+17    7.370271e+17   \n",
       "\n",
       "   rank_test_score  split0_train_score  split1_train_score  \\\n",
       "3                1            0.968429            0.984886   \n",
       "\n",
       "   split2_train_score  mean_train_score  std_train_score  \n",
       "3            0.981024          0.978113         0.007027  "
      ]
     },
     "execution_count": 8,
     "metadata": {},
     "output_type": "execute_result"
    }
   ],
   "source": [
    "# top result from gridsearch\n",
    "polyreg_losses_df = pd.read_csv('BJ_regression/polyreg_losses_cv_results.csv')\n",
    "polyreg_losses_df.sort_values('rank_test_score').head(1)"
   ]
  },
  {
   "cell_type": "code",
   "execution_count": 9,
   "metadata": {},
   "outputs": [
    {
     "name": "stdout",
     "output_type": "stream",
     "text": [
      "polyreg losses R^2:  0.7757705076754353\n"
     ]
    },
    {
     "data": {
      "image/png": "[encoded data removed]",
      "text/plain": [
       "<Figure size 432x288 with 1 Axes>"
      ]
     },
     "metadata": {
      "needs_background": "light"
     },
     "output_type": "display_data"
    }
   ],
   "source": [
    "steps = [('poly',PolynomialFeatures(4)), ('lr', LinearRegression())]\n",
    "polyreg_losses = Pipeline(steps)\n",
    "polyreg_losses.fit(X_train,losses_train)\n",
    "losses_pred = polyreg_losses.predict(X_test)\n",
    "print('polyreg losses R^2: ', r2_score(losses_test,losses_pred))\n",
    "\n",
    "plt.scatter(losses_pred, losses_test)\n",
    "plt.plot([-8000,0],[-8000,0], c='r')\n",
    "plt.title('Polynomial Regression on losses, degree 4',fontsize = 18)\n",
    "plt.xlabel('predicted values',fontsize = 18)\n",
    "plt.ylabel('actual values', fontsize = 18)\n",
    "plt.savefig('plots/polyreg_losses.jpeg')\n",
    "plt.show()"
   ]
  },
  {
   "cell_type": "markdown",
   "metadata": {},
   "source": [
    "Gridsearch `RandomForestRegressor` predicting fifth percentile minimum losses"
   ]
  },
  {
   "cell_type": "code",
   "execution_count": null,
   "metadata": {},
   "outputs": [],
   "source": [
    "# gridsearch losses with RandomForest\n",
    "\n",
    "start = time.time()\n",
    "\n",
    "steps = [('RF', RandomForestRegressor(random_state=2))]\n",
    "\n",
    "n_est = [int(n) for n in np.logspace(start=1,stop=3, num=10)]\n",
    "\n",
    "criteria = ['mse', 'mae']\n",
    "\n",
    "depths = [int(n) for n in np.logspace(start=1, stop=2, num=10)]\n",
    "\n",
    "num_features = ['auto','sqrt','log2']\n",
    "\n",
    "RF_params = {'RF__n_estimators': n_est,\n",
    "            'RF__criterion': criteria,\n",
    "            'RF__max_depth': depths,\n",
    "            'RF__max_features': num_features\n",
    "            }\n",
    "\n",
    "RF_pipe = Pipeline(steps)\n",
    "\n",
    "RF_losses_cv = GridSearchCV(RF_pipe, param_grid=RF_params, cv=3)\n",
    "\n",
    "RF_losses_cv.fit(X_train,losses_train)\n",
    "\n",
    "end = time.time()\n",
    "\n",
    "\n",
    "\n",
    "print('Time elapsed: ', end-start)\n",
    "\n",
    "RF_losses_df = pd.DataFrame(RF_losses_cv.cv_results_)\n",
    "RF_losses_df.to_csv('BJ_regression/RF_losses_cv_results.csv')\n",
    "print(RF_losses_cv.best_score_)\n",
    "\n",
    "RF_losses = RF_losses_cv.best_estimator_\n",
    "RF_losses.fit(X_train,losses_train)\n",
    "losses_pred = RF_losses.predict(X_test)\n",
    "print('R^2: ', r2_score(losses_test,losses_pred))\n",
    "\n",
    "plt.scatter(losses_pred, losses_test)\n",
    "plt.plot([-8000,0],[-8000,0], c='r')\n",
    "plt.xlabel('predicted values')\n",
    "plt.ylabel('actual values')\n",
    "plt.show()"
   ]
  },
  {
   "cell_type": "code",
   "execution_count": 10,
   "metadata": {},
   "outputs": [
    {
     "data": {
      "text/html": [
       "<div>\n",
       "<style scoped>\n",
       "    .dataframe tbody tr th:only-of-type {\n",
       "        vertical-align: middle;\n",
       "    }\n",
       "\n",
       "    .dataframe tbody tr th {\n",
       "        vertical-align: top;\n",
       "    }\n",
       "\n",
       "    .dataframe thead th {\n",
       "        text-align: right;\n",
       "    }\n",
       "</style>\n",
       "<table border=\"1\" class=\"dataframe\">\n",
       "  <thead>\n",
       "    <tr style=\"text-align: right;\">\n",
       "      <th></th>\n",
       "      <th>Unnamed: 0</th>\n",
       "      <th>mean_fit_time</th>\n",
       "      <th>std_fit_time</th>\n",
       "      <th>mean_score_time</th>\n",
       "      <th>std_score_time</th>\n",
       "      <th>param_RF__criterion</th>\n",
       "      <th>param_RF__max_depth</th>\n",
       "      <th>param_RF__max_features</th>\n",
       "      <th>param_RF__n_estimators</th>\n",
       "      <th>params</th>\n",
       "      <th>...</th>\n",
       "      <th>split1_test_score</th>\n",
       "      <th>split2_test_score</th>\n",
       "      <th>mean_test_score</th>\n",
       "      <th>std_test_score</th>\n",
       "      <th>rank_test_score</th>\n",
       "      <th>split0_train_score</th>\n",
       "      <th>split1_train_score</th>\n",
       "      <th>split2_train_score</th>\n",
       "      <th>mean_train_score</th>\n",
       "      <th>std_train_score</th>\n",
       "    </tr>\n",
       "  </thead>\n",
       "  <tbody>\n",
       "    <tr>\n",
       "      <th>578</th>\n",
       "      <td>578</td>\n",
       "      <td>14.263468</td>\n",
       "      <td>0.882027</td>\n",
       "      <td>0.10281</td>\n",
       "      <td>0.000553</td>\n",
       "      <td>mae</td>\n",
       "      <td>100</td>\n",
       "      <td>auto</td>\n",
       "      <td>599</td>\n",
       "      <td>{'RF__criterion': 'mae', 'RF__max_depth': 100,...</td>\n",
       "      <td>...</td>\n",
       "      <td>0.818867</td>\n",
       "      <td>0.832056</td>\n",
       "      <td>0.817092</td>\n",
       "      <td>0.013004</td>\n",
       "      <td>1</td>\n",
       "      <td>0.971911</td>\n",
       "      <td>0.985101</td>\n",
       "      <td>0.987156</td>\n",
       "      <td>0.981389</td>\n",
       "      <td>0.006754</td>\n",
       "    </tr>\n",
       "  </tbody>\n",
       "</table>\n",
       "<p>1 rows × 21 columns</p>\n",
       "</div>"
      ],
      "text/plain": [
       "     Unnamed: 0  mean_fit_time  std_fit_time  mean_score_time  std_score_time  \\\n",
       "578         578      14.263468      0.882027          0.10281        0.000553   \n",
       "\n",
       "    param_RF__criterion  param_RF__max_depth param_RF__max_features  \\\n",
       "578                 mae                  100                   auto   \n",
       "\n",
       "     param_RF__n_estimators  \\\n",
       "578                     599   \n",
       "\n",
       "                                                params       ...         \\\n",
       "578  {'RF__criterion': 'mae', 'RF__max_depth': 100,...       ...          \n",
       "\n",
       "     split1_test_score  split2_test_score  mean_test_score  std_test_score  \\\n",
       "578           0.818867           0.832056         0.817092        0.013004   \n",
       "\n",
       "     rank_test_score  split0_train_score  split1_train_score  \\\n",
       "578                1            0.971911            0.985101   \n",
       "\n",
       "     split2_train_score  mean_train_score  std_train_score  \n",
       "578            0.987156          0.981389         0.006754  \n",
       "\n",
       "[1 rows x 21 columns]"
      ]
     },
     "execution_count": 10,
     "metadata": {},
     "output_type": "execute_result"
    }
   ],
   "source": [
    "# top result for gridsearch\n",
    "RF_losses_df = pd.read_csv('BJ_regression/RF_losses_cv_results.csv')\n",
    "RF_losses_df.sort_values('rank_test_score').head(1)"
   ]
  },
  {
   "cell_type": "code",
   "execution_count": 11,
   "metadata": {},
   "outputs": [
    {
     "name": "stdout",
     "output_type": "stream",
     "text": [
      "RF losses R^2:  0.9316070800086583\n"
     ]
    },
    {
     "data": {
      "image/png": "[encoded data removed]",
      "text/plain": [
       "<Figure size 432x288 with 1 Axes>"
      ]
     },
     "metadata": {
      "needs_background": "light"
     },
     "output_type": "display_data"
    }
   ],
   "source": [
    "RF_losses = RandomForestRegressor(random_state=2, criterion='mae', max_depth=100, max_features='auto', n_estimators=599)\n",
    "RF_losses.fit(X_train,losses_train)\n",
    "losses_pred = RF_losses.predict(X_test)\n",
    "print('RF losses R^2: ', r2_score(losses_test,losses_pred))\n",
    "\n",
    "plt.scatter(losses_pred, losses_test)\n",
    "plt.plot([-8000,0],[-8000,0], c='r')\n",
    "plt.title('RF Regression on losses',fontsize = 18)\n",
    "plt.xlabel('predicted values',fontsize = 18)\n",
    "plt.ylabel('actual values', fontsize = 18)\n",
    "plt.savefig('plots/RF_losses.jpeg')\n",
    "plt.show()"
   ]
  },
  {
   "cell_type": "markdown",
   "metadata": {},
   "source": [
    "Gridsearch `GradientBoostingRegressor` predicting fifth percentile minimum losses"
   ]
  },
  {
   "cell_type": "code",
   "execution_count": null,
   "metadata": {},
   "outputs": [],
   "source": [
    "# grid search gradient boosting regressor\n",
    "\n",
    "start = time.time()\n",
    "\n",
    "GBR = GradientBoostingRegressor(random_state=2)\n",
    "\n",
    "lrs = [0.001, 0.01, 0.1, 1]\n",
    "\n",
    "n_est = [int(n) for n in np.logspace(start=1,stop=3, num=10)]\n",
    "\n",
    "\n",
    "\n",
    "GBR_params = {'learning_rate':lrs, 'n_estimators':n_est}\n",
    "\n",
    "GBR_losses_cv = GridSearchCV(GBR, param_grid=GBR_params, cv=3)\n",
    "\n",
    "GBR_losses_cv.fit(X_train,losses_train)\n",
    "\n",
    "end = time.time()\n",
    "\n",
    "\n",
    "\n",
    "print('Time elapsed: ', end-start)\n",
    "\n",
    "GBR_losses_df = pd.DataFrame(GBR_losses_cv.cv_results_)\n",
    "GBR_losses_df.to_csv('BJ_regression/GBR_losses_cv_results.csv')\n",
    "print(GBR_losses_cv.best_score_)\n",
    "\n",
    "GBR_losses = GBR_losses_cv.best_estimator_\n",
    "GBR_losses.fit(X_train,losses_train)\n",
    "losses_pred = GBR_losses.predict(X_test)\n",
    "print('R^2: ', r2_score(losses_test,losses_pred))\n",
    "\n",
    "plt.scatter(losses_pred, losses_test)\n",
    "plt.plot([-8000,0],[-8000,0], c='r')\n",
    "plt.xlabel('predicted values')\n",
    "plt.ylabel('actual values')\n",
    "plt.show()"
   ]
  },
  {
   "cell_type": "code",
   "execution_count": 12,
   "metadata": {},
   "outputs": [
    {
     "data": {
      "text/html": [
       "<div>\n",
       "<style scoped>\n",
       "    .dataframe tbody tr th:only-of-type {\n",
       "        vertical-align: middle;\n",
       "    }\n",
       "\n",
       "    .dataframe tbody tr th {\n",
       "        vertical-align: top;\n",
       "    }\n",
       "\n",
       "    .dataframe thead th {\n",
       "        text-align: right;\n",
       "    }\n",
       "</style>\n",
       "<table border=\"1\" class=\"dataframe\">\n",
       "  <thead>\n",
       "    <tr style=\"text-align: right;\">\n",
       "      <th></th>\n",
       "      <th>Unnamed: 0</th>\n",
       "      <th>mean_fit_time</th>\n",
       "      <th>std_fit_time</th>\n",
       "      <th>mean_score_time</th>\n",
       "      <th>std_score_time</th>\n",
       "      <th>param_learning_rate</th>\n",
       "      <th>param_n_estimators</th>\n",
       "      <th>params</th>\n",
       "      <th>split0_test_score</th>\n",
       "      <th>split1_test_score</th>\n",
       "      <th>split2_test_score</th>\n",
       "      <th>mean_test_score</th>\n",
       "      <th>std_test_score</th>\n",
       "      <th>rank_test_score</th>\n",
       "      <th>split0_train_score</th>\n",
       "      <th>split1_train_score</th>\n",
       "      <th>split2_train_score</th>\n",
       "      <th>mean_train_score</th>\n",
       "      <th>std_train_score</th>\n",
       "    </tr>\n",
       "  </thead>\n",
       "  <tbody>\n",
       "    <tr>\n",
       "      <th>28</th>\n",
       "      <td>28</td>\n",
       "      <td>0.623489</td>\n",
       "      <td>0.002589</td>\n",
       "      <td>0.013128</td>\n",
       "      <td>0.000052</td>\n",
       "      <td>0.1</td>\n",
       "      <td>599</td>\n",
       "      <td>{'learning_rate': 0.1, 'n_estimators': 599}</td>\n",
       "      <td>0.901735</td>\n",
       "      <td>0.86126</td>\n",
       "      <td>0.749468</td>\n",
       "      <td>0.837488</td>\n",
       "      <td>0.064395</td>\n",
       "      <td>1</td>\n",
       "      <td>0.96537</td>\n",
       "      <td>0.973639</td>\n",
       "      <td>0.974413</td>\n",
       "      <td>0.971141</td>\n",
       "      <td>0.004093</td>\n",
       "    </tr>\n",
       "  </tbody>\n",
       "</table>\n",
       "</div>"
      ],
      "text/plain": [
       "    Unnamed: 0  mean_fit_time  std_fit_time  mean_score_time  std_score_time  \\\n",
       "28          28       0.623489      0.002589         0.013128        0.000052   \n",
       "\n",
       "    param_learning_rate  param_n_estimators  \\\n",
       "28                  0.1                 599   \n",
       "\n",
       "                                         params  split0_test_score  \\\n",
       "28  {'learning_rate': 0.1, 'n_estimators': 599}           0.901735   \n",
       "\n",
       "    split1_test_score  split2_test_score  mean_test_score  std_test_score  \\\n",
       "28            0.86126           0.749468         0.837488        0.064395   \n",
       "\n",
       "    rank_test_score  split0_train_score  split1_train_score  \\\n",
       "28                1             0.96537            0.973639   \n",
       "\n",
       "    split2_train_score  mean_train_score  std_train_score  \n",
       "28            0.974413          0.971141         0.004093  "
      ]
     },
     "execution_count": 12,
     "metadata": {},
     "output_type": "execute_result"
    }
   ],
   "source": [
    "# top result from gridsearch\n",
    "GBR_losses_df = pd.read_csv('BJ_regression/GBR_losses_cv_results.csv')\n",
    "GBR_losses_df.sort_values('rank_test_score').head(1)"
   ]
  },
  {
   "cell_type": "code",
   "execution_count": 13,
   "metadata": {},
   "outputs": [
    {
     "name": "stdout",
     "output_type": "stream",
     "text": [
      "R^2:  0.9283814504216321\n"
     ]
    },
    {
     "data": {
      "image/png": "[encoded data removed]",
      "text/plain": [
       "<Figure size 432x288 with 1 Axes>"
      ]
     },
     "metadata": {
      "needs_background": "light"
     },
     "output_type": "display_data"
    }
   ],
   "source": [
    "GBR_losses = GradientBoostingRegressor(random_state=2, learning_rate=0.1, n_estimators=599)\n",
    "GBR_losses.fit(X_train,losses_train)\n",
    "losses_pred = GBR_losses.predict(X_test)\n",
    "print('R^2: ', r2_score(losses_test,losses_pred))\n",
    "\n",
    "plt.scatter(losses_pred, losses_test)\n",
    "plt.plot([-8000,0],[-8000,0], c='r')\n",
    "plt.title('GradientBoosting Regression on losses',fontsize = 18)\n",
    "plt.xlabel('predicted values',fontsize = 18)\n",
    "plt.ylabel('actual values', fontsize = 18)\n",
    "plt.savefig('plots/GBR_losses.jpeg')\n",
    "plt.show()"
   ]
  },
  {
   "cell_type": "markdown",
   "metadata": {},
   "source": [
    "Gridsearch `AdaBoostRegressor` predicting fifth percentile minimum losses"
   ]
  },
  {
   "cell_type": "code",
   "execution_count": null,
   "metadata": {},
   "outputs": [],
   "source": [
    "# grid search adaboostregressor\n",
    "\n",
    "start = time.time()\n",
    "\n",
    "ada = AdaBoostRegressor(random_state=2)\n",
    "\n",
    "lrs = [0.001, 0.01, 0.1, 1]\n",
    "\n",
    "n_est = [int(n) for n in np.logspace(start=1,stop=3, num=10)]\n",
    "\n",
    "\n",
    "\n",
    "ada_params = {'learning_rate':lrs, 'n_estimators':n_est}\n",
    "\n",
    "ada_losses_cv = GridSearchCV(ada, param_grid=ada_params, cv=3)\n",
    "\n",
    "ada_losses_cv.fit(X_train,losses_train)\n",
    "\n",
    "end = time.time()\n",
    "\n",
    "\n",
    "\n",
    "print('Time elapsed: ', end-start)\n",
    "\n",
    "ada_losses_df = pd.DataFrame(ada_losses_cv.cv_results_)\n",
    "ada_losses_df.to_csv('BJ_regression/ada_losses_cv_results.csv')\n",
    "print(ada_losses_cv.best_score_)\n",
    "\n",
    "ada_losses = ada_losses_cv.best_estimator_\n",
    "ada_losses.fit(X_train,losses_train)\n",
    "losses_pred = ada_losses.predict(X_test)\n",
    "print('R^2: ', r2_score(losses_test,losses_pred))\n",
    "\n",
    "plt.scatter(losses_pred, losses_test)\n",
    "plt.plot([-8000,0],[-8000,0], c='r')\n",
    "plt.xlabel('predicted values')\n",
    "plt.ylabel('actual values')\n",
    "plt.show()"
   ]
  },
  {
   "cell_type": "code",
   "execution_count": 14,
   "metadata": {},
   "outputs": [
    {
     "data": {
      "text/html": [
       "<div>\n",
       "<style scoped>\n",
       "    .dataframe tbody tr th:only-of-type {\n",
       "        vertical-align: middle;\n",
       "    }\n",
       "\n",
       "    .dataframe tbody tr th {\n",
       "        vertical-align: top;\n",
       "    }\n",
       "\n",
       "    .dataframe thead th {\n",
       "        text-align: right;\n",
       "    }\n",
       "</style>\n",
       "<table border=\"1\" class=\"dataframe\">\n",
       "  <thead>\n",
       "    <tr style=\"text-align: right;\">\n",
       "      <th></th>\n",
       "      <th>Unnamed: 0</th>\n",
       "      <th>mean_fit_time</th>\n",
       "      <th>std_fit_time</th>\n",
       "      <th>mean_score_time</th>\n",
       "      <th>std_score_time</th>\n",
       "      <th>param_learning_rate</th>\n",
       "      <th>param_n_estimators</th>\n",
       "      <th>params</th>\n",
       "      <th>split0_test_score</th>\n",
       "      <th>split1_test_score</th>\n",
       "      <th>split2_test_score</th>\n",
       "      <th>mean_test_score</th>\n",
       "      <th>std_test_score</th>\n",
       "      <th>rank_test_score</th>\n",
       "      <th>split0_train_score</th>\n",
       "      <th>split1_train_score</th>\n",
       "      <th>split2_train_score</th>\n",
       "      <th>mean_train_score</th>\n",
       "      <th>std_train_score</th>\n",
       "    </tr>\n",
       "  </thead>\n",
       "  <tbody>\n",
       "    <tr>\n",
       "      <th>31</th>\n",
       "      <td>31</td>\n",
       "      <td>0.065883</td>\n",
       "      <td>0.007457</td>\n",
       "      <td>0.005868</td>\n",
       "      <td>0.00045</td>\n",
       "      <td>1.0</td>\n",
       "      <td>16</td>\n",
       "      <td>{'learning_rate': 1, 'n_estimators': 16}</td>\n",
       "      <td>0.851133</td>\n",
       "      <td>0.798149</td>\n",
       "      <td>0.49087</td>\n",
       "      <td>0.713384</td>\n",
       "      <td>0.158821</td>\n",
       "      <td>1</td>\n",
       "      <td>0.726791</td>\n",
       "      <td>0.823339</td>\n",
       "      <td>0.858954</td>\n",
       "      <td>0.803028</td>\n",
       "      <td>0.055834</td>\n",
       "    </tr>\n",
       "  </tbody>\n",
       "</table>\n",
       "</div>"
      ],
      "text/plain": [
       "    Unnamed: 0  mean_fit_time  std_fit_time  mean_score_time  std_score_time  \\\n",
       "31          31       0.065883      0.007457         0.005868         0.00045   \n",
       "\n",
       "    param_learning_rate  param_n_estimators  \\\n",
       "31                  1.0                  16   \n",
       "\n",
       "                                      params  split0_test_score  \\\n",
       "31  {'learning_rate': 1, 'n_estimators': 16}           0.851133   \n",
       "\n",
       "    split1_test_score  split2_test_score  mean_test_score  std_test_score  \\\n",
       "31           0.798149            0.49087         0.713384        0.158821   \n",
       "\n",
       "    rank_test_score  split0_train_score  split1_train_score  \\\n",
       "31                1            0.726791            0.823339   \n",
       "\n",
       "    split2_train_score  mean_train_score  std_train_score  \n",
       "31            0.858954          0.803028         0.055834  "
      ]
     },
     "execution_count": 14,
     "metadata": {},
     "output_type": "execute_result"
    }
   ],
   "source": [
    "# top result from gridsearch\n",
    "ada_losses_df = pd.read_csv('BJ_regression/ada_losses_cv_results.csv')\n",
    "ada_losses_df.sort_values('rank_test_score').head(1)"
   ]
  },
  {
   "cell_type": "code",
   "execution_count": 15,
   "metadata": {},
   "outputs": [
    {
     "name": "stdout",
     "output_type": "stream",
     "text": [
      "R^2:  0.800160927124138\n"
     ]
    },
    {
     "data": {
      "image/png": "[encoded data removed]",
      "text/plain": [
       "<Figure size 432x288 with 1 Axes>"
      ]
     },
     "metadata": {
      "needs_background": "light"
     },
     "output_type": "display_data"
    }
   ],
   "source": [
    "ada_losses = AdaBoostRegressor(random_state=2, learning_rate=1.0, n_estimators = 16)  \n",
    "ada_losses.fit(X_train,losses_train)\n",
    "losses_pred = ada_losses.predict(X_test)\n",
    "print('R^2: ', r2_score(losses_test,losses_pred))\n",
    "\n",
    "plt.scatter(losses_pred, losses_test)\n",
    "plt.plot([-8000,0],[-8000,0], c='r')\n",
    "plt.title('AdaBoost Regression on losses',fontsize = 18)\n",
    "plt.xlabel('predicted values',fontsize = 18)\n",
    "plt.ylabel('actual values', fontsize = 18)\n",
    "plt.savefig('plots/ada_losses.jpeg')\n",
    "plt.show()"
   ]
  }
 ],
 "metadata": {
  "kernelspec": {
   "display_name": "Python 3",
   "language": "python",
   "name": "python3"
  },
  "language_info": {
   "codemirror_mode": {
    "name": "ipython",
    "version": 3
   },
   "file_extension": ".py",
   "mimetype": "text/x-python",
   "name": "python",
   "nbconvert_exporter": "python",
   "pygments_lexer": "ipython3",
   "version": "3.7.3"
  }
 },
 "nbformat": 4,
 "nbformat_minor": 2
}
